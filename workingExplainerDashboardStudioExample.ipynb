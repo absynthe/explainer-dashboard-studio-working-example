{
 "cells": [
  {
   "cell_type": "markdown",
   "id": "a0a6dc6b",
   "metadata": {},
   "source": [
    "## Installing Explainer Dashboard in SageMaker Studio\n",
    "\n",
    "[Explainer Dashboard](https://explainerdashboard.readthedocs.io/en/latest/#) is a Python library that data scientists use for quickly building interactive dashboards for analyzing and explaining the predictions and workings of (scikit-learn compatible) machine learning models, including xgboost, catboost and lightgbm.\n",
    "\n",
    "In this guide we will try to install and use Explainer Dashboard inside SageMaker Studio.\n",
    "\n",
    "The notebook has been tested on the `Python 3(Data Science)` notebook.\n",
    "\n",
    "### Install the Explainer Dashboard library\n",
    "\n",
    "1. Install the dashboard"
   ]
  },
  {
   "cell_type": "code",
   "execution_count": null,
   "id": "67dec005-409d-4075-91fa-19f84d9dead9",
   "metadata": {
    "tags": []
   },
   "outputs": [],
   "source": [
    "%pip install scikit-learn --upgrade"
   ]
  },
  {
   "cell_type": "code",
   "execution_count": null,
   "id": "fc2049a7",
   "metadata": {
    "tags": []
   },
   "outputs": [],
   "source": [
    "%pip install git+https://github.com/absynthe/explainerdashboard.git@master -q"
   ]
  },
  {
   "cell_type": "markdown",
   "id": "0338f978",
   "metadata": {},
   "source": [
    "2. Downgrade the Jinja2 library, otherwise the package will throw errors. "
   ]
  },
  {
   "cell_type": "code",
   "execution_count": null,
   "id": "6fe143c3",
   "metadata": {
    "tags": []
   },
   "outputs": [],
   "source": [
    "%pip install Jinja2==3.0.3 -q"
   ]
  },
  {
   "cell_type": "markdown",
   "id": "a9d291d9",
   "metadata": {},
   "source": [
    "### Visualize an Explainer Dashboard \n",
    "\n",
    "Prepare some data for demonstration purposes. To keep things simple, we will import the [Diabetes Dataset](https://scikit-learn.org/stable/datasets/toy_dataset.html#diabetes-dataset) from Scikit Learn. "
   ]
  },
  {
   "cell_type": "code",
   "execution_count": null,
   "id": "41f51956",
   "metadata": {
    "tags": []
   },
   "outputs": [],
   "source": [
    "from IPython.core.interactiveshell import InteractiveShell\n",
    "InteractiveShell.ast_node_interactivity = \"all\""
   ]
  },
  {
   "cell_type": "code",
   "execution_count": null,
   "id": "0abac555",
   "metadata": {
    "tags": []
   },
   "outputs": [],
   "source": [
    "import pandas as pd\n",
    "import numpy as np\n",
    "from sklearn.ensemble import RandomForestRegressor\n",
    "from explainerdashboard import ClassifierExplainer, RegressionExplainer"
   ]
  },
  {
   "cell_type": "code",
   "execution_count": null,
   "id": "73d17209",
   "metadata": {
    "tags": []
   },
   "outputs": [],
   "source": [
    "#Import the Diabetes Dataset\n",
    "from sklearn.datasets import load_diabetes\n",
    "data= load_diabetes()\n",
    "print(data)"
   ]
  },
  {
   "cell_type": "code",
   "execution_count": null,
   "id": "93cc5701",
   "metadata": {
    "tags": []
   },
   "outputs": [],
   "source": [
    "#create a DataFrame from the dataset\n",
    "X=pd.DataFrame(data.data,columns=data.feature_names)\n",
    "X.head()"
   ]
  },
  {
   "cell_type": "code",
   "execution_count": null,
   "id": "a349f7af",
   "metadata": {
    "tags": []
   },
   "outputs": [],
   "source": [
    "y=pd.DataFrame(data.target,columns=[\"target\"])\n",
    "y.head()"
   ]
  },
  {
   "cell_type": "code",
   "execution_count": null,
   "id": "49831188",
   "metadata": {
    "tags": []
   },
   "outputs": [],
   "source": [
    "from sklearn.ensemble import RandomForestRegressor\n",
    "from explainerdashboard import RegressionExplainer, ExplainerDashboard\n",
    "import dash_bootstrap_components as dbc\n",
    "from sklearn.model_selection import train_test_split\n",
    "\n",
    "X_train, X_test, y_train, y_test = train_test_split(X, y, test_size=0.2, random_state=1)\n",
    "print(X_train.shape,y_train.shape,X_test.shape,y_test.shape)"
   ]
  },
  {
   "cell_type": "code",
   "execution_count": null,
   "id": "9d622064",
   "metadata": {
    "tags": []
   },
   "outputs": [],
   "source": [
    "y_train"
   ]
  },
  {
   "cell_type": "code",
   "execution_count": null,
   "id": "02bf831f",
   "metadata": {
    "tags": []
   },
   "outputs": [],
   "source": [
    "model = RandomForestRegressor(n_estimators=50, max_depth=5)\n",
    "model.fit(X_train, y_train.values.ravel())"
   ]
  },
  {
   "cell_type": "markdown",
   "id": "3473ffbd",
   "metadata": {},
   "source": [
    "\n",
    "The default dash server is started with mode=`dash`. \n",
    "\n",
    "There are three notebook compatible options: \n",
    "- `mode='inline'` for running the dashboard in an output cell in your notebook\n",
    "- `mode='jupyterlab'` for runnning the dashboard in jupyterlab pane\n",
    "- `mode='external'` which runs the dashboard in a seperate tab\n",
    "\n",
    "We will try all the suggested methods below. "
   ]
  },
  {
   "cell_type": "markdown",
   "id": "08db123d",
   "metadata": {},
   "source": [
    "### Tying it all together\n",
    "\n",
    "\n",
    "We are now finally ready to export the dashboard to EFS."
   ]
  },
  {
   "cell_type": "code",
   "execution_count": null,
   "id": "69776eca",
   "metadata": {
    "tags": []
   },
   "outputs": [],
   "source": [
    "from flask import Flask\n",
    "\n",
    "explainer = RegressionExplainer(model, X_test, y_test)\n",
    "\n",
    "PORT = 8051\n",
    "\n",
    "db = ExplainerDashboard(explainer, \n",
    "                        title=\"Diabetes Prediction\", \n",
    "                        whatif=False,\n",
    "                        mode='dash',\n",
    "                        routes_pathname_prefix='/', \n",
    "                        requests_pathname_prefix=f'/jupyter/default/proxy/{PORT}/'\n",
    "                        )\n",
    "\n",
    "print(db.app.config)\n",
    "\n",
    "db.to_yaml(\"dashboard.yaml\", explainerfile=\"dashboard.joblib\", dump_explainer=True)"
   ]
  },
  {
   "cell_type": "markdown",
   "id": "1eefbc41-59bb-4b7a-b79e-a459fa973361",
   "metadata": {},
   "source": [
    "- Open the Jupyer App Terminal\n",
    "- conda activate studio\n",
    "- Install explainerdashboard again\n",
    "- Navigate to the folder where the dashboard yaml is stored\n",
    "- Now run the following command:\n",
    "explainerdashboard run dashboard.yaml --port 8051\n",
    "\n",
    "Dashboard is available at: < STUDIO_URL >/jupyter/default/proxy/< PORT >"
   ]
  }
 ],
 "metadata": {
  "instance_type": "ml.t3.medium",
  "kernelspec": {
   "display_name": "Python 3 (Data Science 3.0)",
   "language": "python",
   "name": "python3__SAGEMAKER_INTERNAL__arn:aws:sagemaker:us-east-1:081325390199:image/sagemaker-data-science-310-v1"
  },
  "language_info": {
   "codemirror_mode": {
    "name": "ipython",
    "version": 3
   },
   "file_extension": ".py",
   "mimetype": "text/x-python",
   "name": "python",
   "nbconvert_exporter": "python",
   "pygments_lexer": "ipython3",
   "version": "3.10.6"
  }
 },
 "nbformat": 4,
 "nbformat_minor": 5
}
